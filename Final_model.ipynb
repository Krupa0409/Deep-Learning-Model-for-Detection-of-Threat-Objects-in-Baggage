{
  "nbformat": 4,
  "nbformat_minor": 0,
  "metadata": {
    "colab": {
      "name": "Final_model.ipynb",
      "provenance": [],
      "collapsed_sections": []
    },
    "kernelspec": {
      "name": "python3",
      "display_name": "Python 3"
    }
  },
  "cells": [
    {
      "cell_type": "markdown",
      "metadata": {
        "id": "jDf9OZYj5RB0"
      },
      "source": [
        "# **Introduction**\n",
        "---\n",
        "#### In this notebook Machine Learning model is made using different algorithms like multilayer perceptron, SVM.\n"
      ]
    },
    {
      "cell_type": "markdown",
      "metadata": {
        "id": "TkCELLgh52f6"
      },
      "source": [
        "#### Installing and Updating requires packages"
      ]
    },
    {
      "cell_type": "code",
      "metadata": {
        "id": "P9LYhXeO5LV0"
      },
      "source": [
        "!pip install keras --upgrade\n",
        "!pip install tensorflow --upgrade\n",
        "!pip install opencv-python==3.4.2.16\n",
        "!pip install opencv-contrib-python==3.4.2.16"
      ],
      "execution_count": null,
      "outputs": []
    },
    {
      "cell_type": "markdown",
      "metadata": {
        "id": "iJRE8A-e6GWq"
      },
      "source": [
        "#### Importing libraries"
      ]
    },
    {
      "cell_type": "code",
      "metadata": {
        "id": "a0qYxgzR6Nu4"
      },
      "source": [
        "import tensorflow as tf\n",
        "from keras.models import Sequential\n",
        "from keras.models import load_model\n",
        "from keras.layers import Dense\n",
        "import numpy as np\n",
        "import pandas as pd\n",
        "import os\n",
        "from sklearn.model_selection import train_test_split\n",
        "import csv\n",
        "import random\n",
        "import sklearn as sk\n",
        "from sklearn import svm\n",
        "from sklearn import metrics\n",
        "from sklearn.metrics import confusion_matrix\n",
        "from sklearn.metrics import classification_report as cr\n",
        "import cv2\n",
        "import matplotlib.pyplot as plt\n"
      ],
      "execution_count": null,
      "outputs": []
    },
    {
      "cell_type": "code",
      "metadata": {
        "id": "Wrha4dhA6P2x"
      },
      "source": [
        "#@title Helper Functions {display-mode: \"form\"}\n",
        "\n",
        "#@markdown `readFile(filename)`\n",
        "\n",
        "#@markdown `counter(i)`\n",
        "\n",
        "#@markdown `getQueryIdx(match)`\n",
        "\n",
        "#@markdown `getUnique(ft)`\n",
        "\n",
        "# This code will be hidden when the notebook is loaded.\n",
        "def readFile(filename):\n",
        "    data = pd.read_csv(filename,header=None)\n",
        "    data = data.values\n",
        "    return data\n",
        "\n",
        "def counter(i):\n",
        "    '''\n",
        "    Counting in Loop and printing count dynamically\n",
        "    E.g. :\n",
        "        >>> 1\n",
        "        >>> 2\n",
        "    '''\n",
        "    sys.stdout.write(f'\\r{i}')\n",
        "    sys.stdout.flush()\n",
        "\n",
        "def giveQueryIdx(match):\n",
        "    '''\n",
        "    Function for getting index of query_image in match object\n",
        "    '''\n",
        "    try:\n",
        "        return match.queryIdx\n",
        "    except ValueError as e:\n",
        "        print(\"Zero value matrix\")\n",
        "    \n",
        "getQueryIdx = np.vectorize(giveQueryIdx)\n",
        "\n",
        "def getUnique(ft):\n",
        "    bf = cv2.BFMatcher(cv2.NORM_HAMMING,crossCheck=True)\n",
        "    uni = []\n",
        "    ft = ft.astype(np.uint8)\n",
        "    for k in range(len(ft)):\n",
        "        try:\n",
        "            # if k in red:\n",
        "            #     continue\n",
        "            # # else:\n",
        "            ft0 = ft[0]\n",
        "            ft0 = ft0.astype(np.uint8)\n",
        "            ft0 = np.reshape(ft0,(1,32))\n",
        "\n",
        "            matches = bf.match(ft[1:], ft0)\n",
        "            # print(getQueryIdx(matches))\n",
        "            uni.append(ft0[0])\n",
        "            ft = np.delete(ft[1:],getQueryIdx(matches),0)\n",
        "            # print(len(ft))\n",
        "            # print(getQueryIdx(matches))\n",
        "        except Exception as e:\n",
        "            # print(e)\n",
        "            break\n",
        "    # uni = np.reshape(uni,(-1,32))\n",
        "    uni = np.array(uni)\n",
        "    # print(ft)\n",
        "    return uni"
      ],
      "execution_count": null,
      "outputs": []
    },
    {
      "cell_type": "markdown",
      "metadata": {
        "id": "7l-BE17_7Lhg"
      },
      "source": [
        "#### More features Training"
      ]
    },
    {
      "cell_type": "markdown",
      "metadata": {
        "id": "TXPz7pfb7bGI"
      },
      "source": [
        "##### Importing Data for more features"
      ]
    },
    {
      "cell_type": "code",
      "metadata": {
        "id": "hTw-kT5i7Dlv"
      },
      "source": [
        "msg_more = pd.read_csv(f'/content/drive/MyDrive/results/supersetforgun_ORB.csv ',header = None).values\n",
        "msk_more = pd.read_csv(f'/content/drive/MyDrive/results/supersetforknifemoref_ORB.csv ', header = None).values\n",
        "\n",
        "# Remove the excess data from gun or knife depending upon no of features\n",
        "\n",
        "X_knife_train_more = msk_more\n",
        "X_gun_train_more = msg_more[:33334]"
      ],
      "execution_count": null,
      "outputs": []
    },
    {
      "cell_type": "code",
      "metadata": {
        "id": "gbwDboRZ-a8o"
      },
      "source": [
        "X_train_more = np.append(X_knife_train_more,X_gun_train_more,axis=0)\n",
        "Y_train_more = np.append(np.ones((len(X_knife_train_more),1)),np.zeros((len(X_gun_train_more),1)),axis=0)\n",
        "\n",
        "c = list(zip(X_train_more,Y_train_more))\n",
        "random.shuffle(c)\n",
        "# X_train_more.shape\n",
        "X_train_more,Y_train_more = zip(*c)\n",
        "X_train_more = np.array(X_train_more)\n",
        "Y_train_more = np.array(Y_train_more)"
      ],
      "execution_count": null,
      "outputs": []
    },
    {
      "cell_type": "markdown",
      "metadata": {
        "id": "Erpc5b75-fLW"
      },
      "source": [
        "##### Making Validation data (Common for both types i.e. more features and less features)"
      ]
    },
    {
      "cell_type": "code",
      "metadata": {
        "id": "yifLDSav_sse"
      },
      "source": [
        "randomlist_gun = [609, 555, 210, 279, 203, 709, 277, 122, 121, 256, 356, 529, 571, 35, 318, 104, 434, 586, 94, 153, 745, 327, 296, 417, 692, 24, 627, 559, 138, 450, 668, 602, 760, 55, 157, 346, 543, 286, 108, 284, 184, 716, 255, 115, 448, 585, 623, 561, 499, 606, 640, 15, 307, 85, 442, 13, 384, 492, 332, 548, 40, 1, 32, 407, 464, 532, 703, 322, 477, 480, 772, 14, 713, 10, 105, 6, 616, 126, 343, 757, 537, 678, 513, 338, 486, 432, 786, 715, 125, 147, 461, 283, 339, 161, 226, 495, 186, 202, 769, 482, 631, 8, 791, 781, 362, 444, 662, 77, 679, 201, 44, 217, 109, 141, 146, 488, 514, 316, 765, 527, 369, 101, 549, 677, 796, 724, 597, 443, 725, 558, 701, 333, 566, 758, 749, 309, 660, 380, 227, 771, 207, 240, 132, 225, 607, 347, 552, 142, 278, 42, 246, 463, 354, 136, 96, 429, 645, 469, 385, 508]\n",
        "randomlist_knife = [381, 92, 507, 192, 818, 618, 516, 674, 32, 825, 452, 858, 668, 685, 497, 119, 373, 872, 454, 839, 477, 749, 779, 148, 141, 426, 443, 414, 854, 372, 742, 541, 522, 691, 876, 725, 582, 750, 369, 652, 25, 348, 683, 857, 106, 613, 231, 827, 236, 810, 10, 493, 267, 69, 759, 440, 621, 286, 58, 317, 266, 263, 143, 105, 139, 298, 325, 635, 442, 303, 654, 270, 595, 570, 512, 764, 154, 503, 12, 338, 804, 402, 671, 432, 242, 765, 653, 676, 563, 363, 82, 182, 341, 288, 75, 585, 306, 180, 215, 494, 677, 193, 390, 465, 710, 90, 680, 682, 633, 123, 670, 247, 650, 718, 632, 43, 479, 826, 841, 865, 252, 625, 280, 207, 173, 316, 122, 155, 728, 689, 55, 754, 398, 501, 56, 672, 329, 462, 228, 365, 88, 423, 870, 418, 540, 776, 531, 873, 431, 637, 457, 361, 845, 101, 293, 753, 33, 188, 612, 559]"
      ],
      "execution_count": null,
      "outputs": []
    },
    {
      "cell_type": "code",
      "metadata": {
        "id": "2SYfE9ux-iNV"
      },
      "source": [
        "unique_flag = False\n",
        "# Y_test = []\n",
        "feature_count = 0\n",
        "try:\n",
        "    if unique_flag:\n",
        "        fts = readFile(f'/content/drive/My Drive/results/features_knife_ORB/{randomlist_knife[0]}.csv')\n",
        "        fts = getUnique(fts)\n",
        "        X_test = fts\n",
        "        # feature_count = \n",
        "        # Y_test.append(1)\n",
        "        Y_test = np.ones((fts.shape[0],1))\n",
        "    else:\n",
        "        fts = readFile(f'/content/drive/My Drive/results/features_knife_ORB/{randomlist_knife[0]}.csv')\n",
        "        X_test = fts\n",
        "        # Y_test.append(1)\n",
        "\n",
        "except Exception as e:\n",
        "    print(e)\n",
        "\n",
        "for im in randomlist_knife[1:]:\n",
        "    try:\n",
        "        if unique_flag:\n",
        "            fts = readFile(f'/content/drive/My Drive/results/features_knife_ORB/{im}.csv')\n",
        "            fts = getUnique(fts)\n",
        "            \n",
        "        else:\n",
        "            fts = readFile(f'/content/drive/My Drive/results/features_knife_ORB/{im}.csv')\n",
        "        X_test = np.append(X_test,fts,axis=0)\n",
        "        # Y_test.append(1)\n",
        "        Y_test = np.append(Y_test,np.ones((fts.shape[0],1)),axis=0)\n",
        "\n",
        "    except Exception as e:\n",
        "        # print(e)\n",
        "        pass\n",
        "\n",
        "\n",
        "\n",
        "for im in randomlist_gun:\n",
        "    try:\n",
        "        if unique_flag:\n",
        "            fts = readFile(f'/content/drive/My Drive/results/features_gun_2_ORB/{im}.csv')\n",
        "            fts = getUnique(fts)\n",
        "            \n",
        "        else:\n",
        "            fts = readFile(f'/content/drive/My Drive/results/features_gun_2_ORB/{im}.csv')\n",
        "        X_test = np.append(X_test,fts,axis=0)\n",
        "        # Y_test.append(0) \n",
        "        Y_test = np.append(Y_test,np.zeros((fts.shape[0],1)),axis=0)\n",
        "        # print(0)       \n",
        "    except Exception as e:\n",
        "        # print(e)\n",
        "        pass"
      ],
      "execution_count": null,
      "outputs": []
    },
    {
      "cell_type": "markdown",
      "metadata": {
        "id": "KoonMb9I-nrd"
      },
      "source": [
        "##### Defining ANN Model"
      ]
    },
    {
      "cell_type": "code",
      "metadata": {
        "id": "ibbTg5tbG4ef"
      },
      "source": [
        "from numpy.random import seed\n",
        "seed(105)\n",
        "tf.random.set_seed(105)\n",
        "# from tensorflow import set_random_seed\n",
        "# set_random_seed(2)"
      ],
      "execution_count": null,
      "outputs": []
    },
    {
      "cell_type": "code",
      "metadata": {
        "id": "QQc-Sq7f-u61"
      },
      "source": [
        "# tf.random.set_seed(101)\n",
        "inp_shape = (X_train_more.shape[1],)\n",
        "model1 = Sequential()\n",
        "# model.add(LayerNormalization(input_shape=inp_shape))\n",
        "# model.add(Dense(150,activation='relu',input_shape=inp_shape))\n",
        "model1.add(Dense(40,activation='relu',input_shape = inp_shape))\n",
        "model1.add(Dense(25,activation='relu'))\n",
        "# model.add(Dense(200,activation='relu'))\n",
        "model1.add(Dense(12,activation='relu'))\n",
        "model1.add(Dense(1,activation='sigmoid'))"
      ],
      "execution_count": null,
      "outputs": []
    },
    {
      "cell_type": "code",
      "metadata": {
        "colab": {
          "base_uri": "https://localhost:8080/"
        },
        "id": "mk_OyJdI-zFl",
        "outputId": "f3a213fb-6d15-4730-dc2e-e4253ea55883"
      },
      "source": [
        "model1.summary()"
      ],
      "execution_count": null,
      "outputs": [
        {
          "output_type": "stream",
          "text": [
            "Model: \"sequential_7\"\n",
            "_________________________________________________________________\n",
            "Layer (type)                 Output Shape              Param #   \n",
            "=================================================================\n",
            "dense_24 (Dense)             (None, 40)                1320      \n",
            "_________________________________________________________________\n",
            "dense_25 (Dense)             (None, 25)                1025      \n",
            "_________________________________________________________________\n",
            "dense_26 (Dense)             (None, 12)                312       \n",
            "_________________________________________________________________\n",
            "dense_27 (Dense)             (None, 1)                 13        \n",
            "=================================================================\n",
            "Total params: 2,670\n",
            "Trainable params: 2,670\n",
            "Non-trainable params: 0\n",
            "_________________________________________________________________\n"
          ],
          "name": "stdout"
        }
      ]
    },
    {
      "cell_type": "code",
      "metadata": {
        "id": "s_dMxTPl-2zF"
      },
      "source": [
        "model1.compile(loss='binary_crossentropy', optimizer='adam', metrics=['accuracy'])"
      ],
      "execution_count": null,
      "outputs": []
    },
    {
      "cell_type": "markdown",
      "metadata": {
        "id": "6xgY-Dvu_Mfe"
      },
      "source": [
        "##### Training Model and analysing training and validation process"
      ]
    },
    {
      "cell_type": "code",
      "metadata": {
        "colab": {
          "base_uri": "https://localhost:8080/"
        },
        "id": "xEb8lMnW-4sO",
        "outputId": "72f59499-3511-400a-89c7-26c6572a0a9e"
      },
      "source": [
        "history = model1.fit(x=X_train_more, y=Y_train_more, validation_data=(X_test,Y_test),batch_size=32, epochs=15, verbose=1)"
      ],
      "execution_count": null,
      "outputs": [
        {
          "output_type": "stream",
          "text": [
            "Epoch 1/15\n",
            "2084/2084 [==============================] - 4s 2ms/step - loss: 1.0257 - accuracy: 0.5167 - val_loss: 0.6735 - val_accuracy: 0.5971\n",
            "Epoch 2/15\n",
            "2084/2084 [==============================] - 4s 2ms/step - loss: 0.6944 - accuracy: 0.5422 - val_loss: 0.7319 - val_accuracy: 0.4462\n",
            "Epoch 3/15\n",
            "2084/2084 [==============================] - 4s 2ms/step - loss: 0.6868 - accuracy: 0.5582 - val_loss: 0.6965 - val_accuracy: 0.4939\n",
            "Epoch 4/15\n",
            "2084/2084 [==============================] - 4s 2ms/step - loss: 0.6763 - accuracy: 0.5745 - val_loss: 0.7446 - val_accuracy: 0.3990\n",
            "Epoch 5/15\n",
            "2084/2084 [==============================] - 4s 2ms/step - loss: 0.6697 - accuracy: 0.5876 - val_loss: 0.7045 - val_accuracy: 0.5052\n",
            "Epoch 6/15\n",
            "2084/2084 [==============================] - 4s 2ms/step - loss: 0.6639 - accuracy: 0.5983 - val_loss: 0.7064 - val_accuracy: 0.5117\n",
            "Epoch 7/15\n",
            "2084/2084 [==============================] - 4s 2ms/step - loss: 0.6580 - accuracy: 0.6071 - val_loss: 0.6814 - val_accuracy: 0.5711\n",
            "Epoch 8/15\n",
            "2084/2084 [==============================] - 4s 2ms/step - loss: 0.6550 - accuracy: 0.6122 - val_loss: 0.6911 - val_accuracy: 0.5495\n",
            "Epoch 9/15\n",
            "2084/2084 [==============================] - 4s 2ms/step - loss: 0.6526 - accuracy: 0.6145 - val_loss: 0.6908 - val_accuracy: 0.5534\n",
            "Epoch 10/15\n",
            "2084/2084 [==============================] - 4s 2ms/step - loss: 0.6500 - accuracy: 0.6179 - val_loss: 0.6838 - val_accuracy: 0.5687\n",
            "Epoch 11/15\n",
            "2084/2084 [==============================] - 4s 2ms/step - loss: 0.6469 - accuracy: 0.6223 - val_loss: 0.6959 - val_accuracy: 0.5376\n",
            "Epoch 12/15\n",
            "2084/2084 [==============================] - 4s 2ms/step - loss: 0.6449 - accuracy: 0.6260 - val_loss: 0.6993 - val_accuracy: 0.5545\n",
            "Epoch 13/15\n",
            "2084/2084 [==============================] - 4s 2ms/step - loss: 0.6440 - accuracy: 0.6271 - val_loss: 0.7055 - val_accuracy: 0.5319\n",
            "Epoch 14/15\n",
            "2084/2084 [==============================] - 4s 2ms/step - loss: 0.6415 - accuracy: 0.6298 - val_loss: 0.7371 - val_accuracy: 0.4827\n",
            "Epoch 15/15\n",
            "2084/2084 [==============================] - 4s 2ms/step - loss: 0.6393 - accuracy: 0.6334 - val_loss: 0.6646 - val_accuracy: 0.6058\n"
          ],
          "name": "stdout"
        }
      ]
    },
    {
      "cell_type": "code",
      "metadata": {
        "colab": {
          "base_uri": "https://localhost:8080/",
          "height": 573
        },
        "id": "rCse6CnY_Gvn",
        "outputId": "cf4f96b5-c8a9-4e04-faee-3215bf306a65"
      },
      "source": [
        "history_dict = history.history\n",
        "loss_values = history_dict['loss']\n",
        "val_loss_values = history_dict['val_loss']\n",
        "epochs = range(1, len(loss_values)+1)\n",
        "plt.plot(epochs, loss_values, 'bo', label='Training loss')\n",
        "# plt.show()\n",
        "plt.plot(epochs, val_loss_values, 'b', label='Validation loss')\n",
        "plt.title('Training and validation loss')\n",
        "plt.xlabel('Epochs')\n",
        "plt.ylabel('Loss')\n",
        "plt.legend()\n",
        "# plt.savefig(f'/content/hist_{i}.jpg')\n",
        "# i = i+1\n",
        "plt.show()\n",
        "acc = history_dict['accuracy']\n",
        "val_acc = history_dict['val_accuracy']\n",
        "plt.plot(epochs, acc, 'bo', label='Training acc')\n",
        "plt.plot(epochs, val_acc, 'b', label='Validation acc')\n",
        "plt.title('Training and validation accuracy')\n",
        "plt.xlabel('Epochs')\n",
        "plt.ylabel('Accs')\n",
        "plt.legend()\n",
        "plt.show()"
      ],
      "execution_count": null,
      "outputs": [
        {
          "output_type": "display_data",
          "data": {
            "image/png": "[encoded data removed]",
            "text/plain": [
              "<Figure size 432x288 with 1 Axes>"
            ]
          },
          "metadata": {
            "tags": [],
            "needs_background": "light"
          }
        },
        {
          "output_type": "display_data",
          "data": {
            "image/png": "[encoded data removed]",
            "text/plain": [
              "<Figure size 432x288 with 1 Axes>"
            ]
          },
          "metadata": {
            "tags": [],
            "needs_background": "light"
          }
        }
      ]
    },
    {
      "cell_type": "markdown",
      "metadata": {
        "id": "_u8hG7a6_zPV"
      },
      "source": [
        "##### Saving the model"
      ]
    },
    {
      "cell_type": "code",
      "metadata": {
        "colab": {
          "base_uri": "https://localhost:8080/"
        },
        "id": "c3iOHZdz_ynu",
        "outputId": "ef3a48a9-4168-478f-f61f-ce71a17d148c"
      },
      "source": [
        "model1.save('/content/drive/My Drive/results/model1_more_26_11')\n"
      ],
      "execution_count": null,
      "outputs": [
        {
          "output_type": "stream",
          "text": [
            "INFO:tensorflow:Assets written to: /content/drive/My Drive/results/model1_more_26_11/assets\n"
          ],
          "name": "stdout"
        }
      ]
    },
    {
      "cell_type": "code",
      "metadata": {
        "id": "uecNEjD7OVpD"
      },
      "source": [
        "# model1 = load_model('/content/drive/My Drive/results/model1_more_25_11')"
      ],
      "execution_count": null,
      "outputs": []
    },
    {
      "cell_type": "markdown",
      "metadata": {
        "id": "nTZQESUj_6el"
      },
      "source": [
        "##### Testing the model"
      ]
    },
    {
      "cell_type": "code",
      "metadata": {
        "id": "psAxCXTr_54t"
      },
      "source": [
        "bf = cv2.BFMatcher(cv2.NORM_HAMMING,crossCheck=True)\n",
        "pred = []\n",
        "actual = []\n",
        "accs = []\n",
        "label = 'more'\n",
        "# unique_flag = True\n",
        "for im in randomlist_knife:\n",
        "    try:\n",
        "        if unique_flag:\n",
        "            fts = readFile(f'/content/drive/My Drive/results/features_knife_ORB/{im}.csv')\n",
        "            fts = getUnique(fts)\n",
        "        else:\n",
        "            fts = readFile(f'/content/drive/My Drive/results/features_knife_ORB/{im}.csv')\n",
        "\n",
        "        # fts = np.array(im)\n",
        "        # fts = np.reshape(fts,(-1,32))\n",
        "        if len(fts)>200:\n",
        "            label = 'more'\n",
        "        else:\n",
        "            label = 'less'\n",
        "        test = model1.predict(fts)\n",
        "        # acc.append(np.sum(test)/len(test))\n",
        "        test[np.where(test<0.5)] = 0\n",
        "        test[np.where(test>0.5)] = 1\n",
        "        # print(test)\n",
        "        temp = np.sum(test)/len(test)\n",
        "        # print(temp)\n",
        "        actual.append(1)\n",
        "        if temp < 0.5:\n",
        "            pred.append(0)\n",
        "            accs.append(['knife','gun',temp,0,label])\n",
        "        else:\n",
        "            pred.append(1)\n",
        "            # accs.append(('knife',temp,1,im))\n",
        "\n",
        "            accs.append(['knife','knife',temp,1,label])\n",
        "    except:\n",
        "        continue\n",
        "     \n",
        "\n",
        "for im in randomlist_gun:\n",
        "    # fts = readFile(f'/content/drive/My Drive/results/features_gun_2_ORB/{im}.csv')\n",
        "    try:\n",
        "        if unique_flag:\n",
        "            fts = readFile(f'/content/drive/My Drive/results/features_gun_2_ORB/{im}.csv')\n",
        "            fts = getUnique(fts)\n",
        "        else:\n",
        "            fts = readFile(f'/content/drive/My Drive/results/features_gun_2_ORB/{im}.csv')\n",
        "\n",
        "        test = model1.predict(fts)\n",
        "\n",
        "        if len(fts)>200:\n",
        "            label = 'more'\n",
        "        else:\n",
        "            label = 'less'\n",
        "\n",
        "\n",
        "        # acc.append(1-np.sum(test)/len(test))\n",
        "        test[np.where(test<0.5)] = 0\n",
        "        test[np.where(test>0.5)] = 1\n",
        "        \n",
        "        temp = np.sum(test)/len(test)\n",
        "        actual.append(0)\n",
        "        # accs.append(temp)\n",
        "\n",
        "        if temp < 0.5:\n",
        "            pred.append(0)\n",
        "            accs.append(['gun', 'gun', temp, 0, label])\n",
        "            # accs.append(('gun',temp,0))\n",
        "        else:\n",
        "            pred.append(1)\n",
        "            accs.append(['gun', 'knife', temp, 1, label])\n",
        "        # accs.append(('gun',temp,1))\n",
        "    except:\n",
        "        pass        "
      ],
      "execution_count": null,
      "outputs": []
    },
    {
      "cell_type": "code",
      "metadata": {
        "colab": {
          "base_uri": "https://localhost:8080/"
        },
        "id": "HH15PnZVAAzM",
        "outputId": "a03466e2-4b4a-475d-ba44-468a89ed2c4d"
      },
      "source": [
        "print(confusion_matrix(actual,pred))\n",
        "names = [0,1]\n",
        "a = cr(actual,pred,names)\n",
        "print(a)"
      ],
      "execution_count": null,
      "outputs": [
        {
          "output_type": "stream",
          "text": [
            "[[160   0]\n",
            " [142   9]]\n",
            "              precision    recall  f1-score   support\n",
            "\n",
            "           0       0.53      1.00      0.69       160\n",
            "           1       1.00      0.06      0.11       151\n",
            "\n",
            "    accuracy                           0.54       311\n",
            "   macro avg       0.76      0.53      0.40       311\n",
            "weighted avg       0.76      0.54      0.41       311\n",
            "\n"
          ],
          "name": "stdout"
        }
      ]
    },
    {
      "cell_type": "markdown",
      "metadata": {
        "id": "GatjaQhlCS07"
      },
      "source": [
        "#### Less Features Training"
      ]
    },
    {
      "cell_type": "code",
      "metadata": {
        "id": "RtCt6-OmCVwp"
      },
      "source": [
        "msg_less = pd.read_csv(f'/content/drive/My Drive/results/supersetforgunlessf_ORB.csv ',header = None).values\n",
        "msk_less = pd.read_csv(f'/content/drive/My Drive/results/supersetforknifelessf_ORB.csv ', header = None).values\n",
        "\n",
        "X_gun_train_less = msg_less\n",
        "# random.shuffle(msk)\n",
        "X_knife_train_less = msk_less[:2487]"
      ],
      "execution_count": null,
      "outputs": []
    },
    {
      "cell_type": "code",
      "metadata": {
        "colab": {
          "base_uri": "https://localhost:8080/"
        },
        "id": "_GJggV7JO8KL",
        "outputId": "8dd8053b-ba22-4484-b3e0-84b9ba886dab"
      },
      "source": [
        "msg_less.shape"
      ],
      "execution_count": null,
      "outputs": [
        {
          "output_type": "execute_result",
          "data": {
            "text/plain": [
              "(2487, 32)"
            ]
          },
          "metadata": {
            "tags": []
          },
          "execution_count": 99
        }
      ]
    },
    {
      "cell_type": "code",
      "metadata": {
        "id": "t4dsnKwDCVwp"
      },
      "source": [
        "X_train_less = np.append(X_knife_train_less,X_gun_train_less,axis=0)\n",
        "Y_train_less = np.append(np.ones((len(X_knife_train_less),1)),np.zeros((len(X_gun_train_less),1)),axis=0)\n",
        "\n",
        "c = list(zip(X_train_less,Y_train_less))\n",
        "random.shuffle(c)\n",
        "# X_train_less.shape\n",
        "X_train_less,Y_train_less = zip(*c)\n",
        "X_train_less = np.array(X_train_less)\n",
        "Y_train_less = np.array(Y_train_less)"
      ],
      "execution_count": null,
      "outputs": []
    },
    {
      "cell_type": "code",
      "metadata": {
        "colab": {
          "base_uri": "https://localhost:8080/"
        },
        "id": "h8os2RCEQqUH",
        "outputId": "c807879e-53cd-4dd3-f3d4-6a8b68d3add5"
      },
      "source": [
        "X_train_less.shape"
      ],
      "execution_count": null,
      "outputs": [
        {
          "output_type": "execute_result",
          "data": {
            "text/plain": [
              "(4974, 32)"
            ]
          },
          "metadata": {
            "tags": []
          },
          "execution_count": 101
        }
      ]
    },
    {
      "cell_type": "code",
      "metadata": {
        "id": "ZsuWWrSRQE5Y"
      },
      "source": [
        "from numpy.random import seed\n",
        "seed(45)\n",
        "tf.random.set_seed(45)"
      ],
      "execution_count": null,
      "outputs": []
    },
    {
      "cell_type": "code",
      "metadata": {
        "id": "AfszSCb5CVwp"
      },
      "source": [
        "# tf.random.set_seed(101)\n",
        "inp_shape = (X_train_less.shape[1],)\n",
        "model2 = Sequential()\n",
        "# model.add(LayerNormalization(input_shape=inp_shape))\n",
        "# model.add(Dense(150,activation='relu',input_shape=inp_shape))\n",
        "model2.add(Dense(40,activation='relu',input_shape = inp_shape))\n",
        "model2.add(Dense(25,activation='relu'))\n",
        "# model.add(Dense(200,activation='relu'))\n",
        "model2.add(Dense(12,activation='relu'))\n",
        "model2.add(Dense(1,activation='sigmoid'))"
      ],
      "execution_count": null,
      "outputs": []
    },
    {
      "cell_type": "code",
      "metadata": {
        "colab": {
          "base_uri": "https://localhost:8080/"
        },
        "id": "jWdb6ZP1CVwp",
        "outputId": "8e9190da-0767-4590-d249-9a97c93a02aa"
      },
      "source": [
        "model2.summary()"
      ],
      "execution_count": null,
      "outputs": [
        {
          "output_type": "stream",
          "text": [
            "Model: \"sequential_11\"\n",
            "_________________________________________________________________\n",
            "Layer (type)                 Output Shape              Param #   \n",
            "=================================================================\n",
            "dense_40 (Dense)             (None, 40)                1320      \n",
            "_________________________________________________________________\n",
            "dense_41 (Dense)             (None, 25)                1025      \n",
            "_________________________________________________________________\n",
            "dense_42 (Dense)             (None, 12)                312       \n",
            "_________________________________________________________________\n",
            "dense_43 (Dense)             (None, 1)                 13        \n",
            "=================================================================\n",
            "Total params: 2,670\n",
            "Trainable params: 2,670\n",
            "Non-trainable params: 0\n",
            "_________________________________________________________________\n"
          ],
          "name": "stdout"
        }
      ]
    },
    {
      "cell_type": "code",
      "metadata": {
        "id": "LATuATOQCVwq"
      },
      "source": [
        "model2.compile(loss='binary_crossentropy', optimizer='adam', metrics=['accuracy'])"
      ],
      "execution_count": null,
      "outputs": []
    },
    {
      "cell_type": "code",
      "metadata": {
        "colab": {
          "base_uri": "https://localhost:8080/"
        },
        "id": "nW3M_ucwCVwr",
        "outputId": "5f197959-d0fa-45fe-c2ef-fbd4bd991176"
      },
      "source": [
        "history = model2.fit(x=X_train_less, y=Y_train_less, validation_data=(X_test,Y_test),batch_size=32, epochs=15, verbose=1)"
      ],
      "execution_count": null,
      "outputs": [
        {
          "output_type": "stream",
          "text": [
            "Epoch 1/15\n",
            "156/156 [==============================] - 2s 10ms/step - loss: 3.5179 - accuracy: 0.5285 - val_loss: 1.3524 - val_accuracy: 0.5425\n",
            "Epoch 2/15\n",
            "156/156 [==============================] - 2s 10ms/step - loss: 0.9011 - accuracy: 0.5881 - val_loss: 0.9861 - val_accuracy: 0.5611\n",
            "Epoch 3/15\n",
            "156/156 [==============================] - 2s 11ms/step - loss: 0.7422 - accuracy: 0.6140 - val_loss: 0.9185 - val_accuracy: 0.5986\n",
            "Epoch 4/15\n",
            "156/156 [==============================] - 2s 11ms/step - loss: 0.6745 - accuracy: 0.6267 - val_loss: 0.8304 - val_accuracy: 0.5639\n",
            "Epoch 5/15\n",
            "156/156 [==============================] - 2s 11ms/step - loss: 0.6723 - accuracy: 0.6214 - val_loss: 0.8332 - val_accuracy: 0.5997\n",
            "Epoch 6/15\n",
            "156/156 [==============================] - 2s 11ms/step - loss: 0.6409 - accuracy: 0.6383 - val_loss: 0.8450 - val_accuracy: 0.5413\n",
            "Epoch 7/15\n",
            "156/156 [==============================] - 2s 11ms/step - loss: 0.6465 - accuracy: 0.6293 - val_loss: 0.8913 - val_accuracy: 0.5383\n",
            "Epoch 8/15\n",
            "156/156 [==============================] - 2s 11ms/step - loss: 0.6415 - accuracy: 0.6429 - val_loss: 0.9866 - val_accuracy: 0.4966\n",
            "Epoch 9/15\n",
            "156/156 [==============================] - 2s 11ms/step - loss: 0.6188 - accuracy: 0.6588 - val_loss: 0.8026 - val_accuracy: 0.5813\n",
            "Epoch 10/15\n",
            "156/156 [==============================] - 2s 11ms/step - loss: 0.6034 - accuracy: 0.6673 - val_loss: 0.8964 - val_accuracy: 0.5161\n",
            "Epoch 11/15\n",
            "156/156 [==============================] - 2s 11ms/step - loss: 0.6075 - accuracy: 0.6556 - val_loss: 0.8679 - val_accuracy: 0.5555\n",
            "Epoch 12/15\n",
            "156/156 [==============================] - 2s 11ms/step - loss: 0.6076 - accuracy: 0.6594 - val_loss: 0.8420 - val_accuracy: 0.5232\n",
            "Epoch 13/15\n",
            "156/156 [==============================] - 2s 11ms/step - loss: 0.5974 - accuracy: 0.6723 - val_loss: 0.8678 - val_accuracy: 0.5532\n",
            "Epoch 14/15\n",
            "156/156 [==============================] - 2s 10ms/step - loss: 0.5800 - accuracy: 0.6747 - val_loss: 0.9396 - val_accuracy: 0.6068\n",
            "Epoch 15/15\n",
            "156/156 [==============================] - 1s 9ms/step - loss: 0.5802 - accuracy: 0.6807 - val_loss: 0.8750 - val_accuracy: 0.6087\n"
          ],
          "name": "stdout"
        }
      ]
    },
    {
      "cell_type": "code",
      "metadata": {
        "colab": {
          "base_uri": "https://localhost:8080/",
          "height": 573
        },
        "id": "UFfiIEZoCVwr",
        "outputId": "d03c6797-227c-40bc-a406-18aa463f6af0"
      },
      "source": [
        "history_dict = history.history\n",
        "loss_values = history_dict['loss']\n",
        "val_loss_values = history_dict['val_loss']\n",
        "epochs = range(1, len(loss_values)+1)\n",
        "plt.plot(epochs, loss_values, 'bo', label='Training loss')\n",
        "# plt.show()\n",
        "plt.plot(epochs, val_loss_values, 'b', label='Validation loss')\n",
        "plt.title('Training and validation loss')\n",
        "plt.xlabel('Epochs')\n",
        "plt.ylabel('Loss')\n",
        "plt.legend()\n",
        "# plt.savefig(f'/content/hist_{i}.jpg')\n",
        "# i = i+1\n",
        "plt.show()\n",
        "acc = history_dict['accuracy']\n",
        "val_acc = history_dict['val_accuracy']\n",
        "plt.plot(epochs, acc, 'bo', label='Training acc')\n",
        "plt.plot(epochs, val_acc, 'b', label='Validation acc')\n",
        "plt.title('Training and validation accuracy')\n",
        "plt.xlabel('Epochs')\n",
        "plt.ylabel('Accs')\n",
        "plt.legend()\n",
        "plt.show()"
      ],
      "execution_count": null,
      "outputs": [
        {
          "output_type": "display_data",
          "data": {
            "image/png": "[encoded data removed]",
            "text/plain": [
              "<Figure size 432x288 with 1 Axes>"
            ]
          },
          "metadata": {
            "tags": [],
            "needs_background": "light"
          }
        },
        {
          "output_type": "display_data",
          "data": {
            "image/png": "[encoded data removed]",
            "text/plain": [
              "<Figure size 432x288 with 1 Axes>"
            ]
          },
          "metadata": {
            "tags": [],
            "needs_background": "light"
          }
        }
      ]
    },
    {
      "cell_type": "code",
      "metadata": {
        "colab": {
          "base_uri": "https://localhost:8080/"
        },
        "id": "YZGWzD_KCVwr",
        "outputId": "1aed01bb-5909-4f45-f8b6-bc65cdab5eb4"
      },
      "source": [
        "model2.save('/content/drive/My Drive/results/model2_more_26_11')"
      ],
      "execution_count": null,
      "outputs": [
        {
          "output_type": "stream",
          "text": [
            "INFO:tensorflow:Assets written to: /content/drive/My Drive/results/model2_more_26_11/assets\n"
          ],
          "name": "stdout"
        }
      ]
    },
    {
      "cell_type": "code",
      "metadata": {
        "id": "C-4H14s_CVwr"
      },
      "source": [
        "bf = cv2.BFMatcher(cv2.NORM_HAMMING,crossCheck=True)\n",
        "pred = []\n",
        "actual = []\n",
        "accs = []\n",
        "label = 'more'\n",
        "# unique_flag = True\n",
        "for im in randomlist_knife:\n",
        "    try:\n",
        "        if unique_flag:\n",
        "            fts = readFile(f'/content/drive/My Drive/results/features_knife_ORB/{im}.csv')\n",
        "            fts = getUnique(fts)\n",
        "        else:\n",
        "            fts = readFile(f'/content/drive/My Drive/results/features_knife_ORB/{im}.csv')\n",
        "\n",
        "        # fts = np.array(im)\n",
        "        # fts = np.reshape(fts,(-1,32))\n",
        "        if len(fts)>200:\n",
        "            label = 'more'\n",
        "        else:\n",
        "            label = 'less'\n",
        "        test = model2.predict(fts)\n",
        "        # acc.append(np.sum(test)/len(test))\n",
        "        test[np.where(test<0.5)] = 0\n",
        "        test[np.where(test>0.5)] = 1\n",
        "        # print(test)\n",
        "        temp = np.sum(test)/len(test)\n",
        "        # print(temp)\n",
        "        actual.append(1)\n",
        "        if temp < 0.5:\n",
        "            pred.append(0)\n",
        "            accs.append(['knife','gun',temp,0,label])\n",
        "        else:\n",
        "            pred.append(1)\n",
        "            # accs.append(('knife',temp,1,im))\n",
        "\n",
        "            accs.append(['knife','knife',temp,1,label])\n",
        "    except:\n",
        "        continue\n",
        "     \n",
        "\n",
        "for im in randomlist_gun:\n",
        "    # fts = readFile(f'/content/drive/My Drive/results/features_gun_2_ORB/{im}.csv')\n",
        "    try:\n",
        "        if unique_flag:\n",
        "            fts = readFile(f'/content/drive/My Drive/results/features_gun_2_ORB/{im}.csv')\n",
        "            fts = getUnique(fts)\n",
        "        else:\n",
        "            fts = readFile(f'/content/drive/My Drive/results/features_gun_2_ORB/{im}.csv')\n",
        "\n",
        "        test = model2.predict(fts)\n",
        "\n",
        "        if len(fts)>200:\n",
        "            label = 'more'\n",
        "        else:\n",
        "            label = 'less'\n",
        "\n",
        "\n",
        "        # acc.append(1-np.sum(test)/len(test))\n",
        "        test[np.where(test<0.5)] = 0\n",
        "        test[np.where(test>0.5)] = 1\n",
        "        \n",
        "        temp = np.sum(test)/len(test)\n",
        "        actual.append(0)\n",
        "        # accs.append(temp)\n",
        "\n",
        "        if temp < 0.5:\n",
        "            pred.append(0)\n",
        "            accs.append(['gun', 'gun', temp, 0, label])\n",
        "            # accs.append(('gun',temp,0))\n",
        "        else:\n",
        "            pred.append(1)\n",
        "            accs.append(['gun', 'knife', temp, 1, label])\n",
        "        # accs.append(('gun',temp,1))\n",
        "    except:\n",
        "        pass        "
      ],
      "execution_count": null,
      "outputs": []
    },
    {
      "cell_type": "code",
      "metadata": {
        "colab": {
          "base_uri": "https://localhost:8080/"
        },
        "id": "6zwlabGICVwr",
        "outputId": "9763765d-7b9b-4bb8-aa5d-ff9d181590c7"
      },
      "source": [
        "print(confusion_matrix(actual,pred))\n",
        "names = [0,1]\n",
        "a = cr(actual,pred,names)\n",
        "print(a)"
      ],
      "execution_count": null,
      "outputs": [
        {
          "output_type": "stream",
          "text": [
            "[[160   0]\n",
            " [142   9]]\n",
            "              precision    recall  f1-score   support\n",
            "\n",
            "           0       0.53      1.00      0.69       160\n",
            "           1       1.00      0.06      0.11       151\n",
            "\n",
            "    accuracy                           0.54       311\n",
            "   macro avg       0.76      0.53      0.40       311\n",
            "weighted avg       0.76      0.54      0.41       311\n",
            "\n"
          ],
          "name": "stdout"
        }
      ]
    }
  ]
}