{
  "nbformat": 4,
  "nbformat_minor": 0,
  "metadata": {
    "colab": {
      "name": "Data_Generate.ipynb",
      "provenance": []
    },
    "kernelspec": {
      "name": "python3",
      "display_name": "Python 3"
    }
  },
  "cells": [
    {
      "cell_type": "code",
      "metadata": {
        "id": "XmKEE7pVxaLd"
      },
      "source": [
        "import numpy as np\n",
        "import pandas as pd\n",
        "import random\n",
        "import csv\n",
        "import cv2\n",
        "import matplotlib.pyplot as plt\n",
        "\n",
        "from numpy import loadtxt\n",
        "from keras.models import Sequential\n",
        "from keras.layers import Dense"
      ],
      "execution_count": null,
      "outputs": []
    },
    {
      "cell_type": "markdown",
      "metadata": {
        "id": "QkcRuFTpdqAB"
      },
      "source": [
        "##### Seperating Test Data Images :\n",
        "- Generating 20% test data image_names\n",
        "- Storing names in CSV file `testfor{obj_name}ORB.csv`"
      ]
    },
    {
      "cell_type": "code",
      "metadata": {
        "colab": {
          "base_uri": "https://localhost:8080/"
        },
        "id": "tUBtQMW1yOZQ",
        "outputId": "cc1d3a7a-d95c-4766-9b5b-f2e666b57932"
      },
      "source": [
        "randomlist_gun = random.sample(range(0, 800), 160)\n",
        "print(randomlist_gun)\n",
        "randomlist_knife = random.sample(range(0, 880), 160)\n",
        "print(randomlist_knife)"
      ],
      "execution_count": null,
      "outputs": [
        {
          "output_type": "stream",
          "text": [
            "[247, 152, 790, 299, 494, 758, 10, 697, 471, 145, 523, 381, 336, 51, 427, 276, 397, 573, 699, 520, 79, 566, 559, 189, 432, 500, 388, 498, 193, 205, 521, 743, 446, 775, 162, 764, 780, 522, 35, 685, 313, 729, 665, 674, 31, 680, 119, 175, 736, 453, 230, 549, 458, 249, 542, 603, 576, 712, 627, 715, 625, 610, 561, 120, 283, 623, 353, 785, 507, 104, 325, 742, 700, 716, 553, 0, 772, 52, 96, 181, 643, 488, 540, 231, 222, 719, 71, 257, 466, 297, 348, 2, 392, 761, 658, 138, 694, 346, 345, 243, 61, 754, 169, 332, 281, 414, 109, 541, 771, 384, 614, 428, 41, 207, 449, 338, 450, 279, 65, 54, 551, 667, 569, 214, 98, 796, 441, 664, 478, 537, 580, 461, 402, 445, 3, 708, 496, 298, 263, 595, 285, 420, 63, 464, 182, 476, 113, 532, 27, 720, 369, 631, 649, 677, 798, 647, 351, 791, 114, 718]\n",
            "[793, 263, 114, 517, 792, 755, 19, 836, 337, 593, 461, 571, 315, 533, 745, 703, 261, 135, 202, 572, 791, 215, 496, 199, 227, 854, 363, 839, 289, 330, 85, 72, 335, 742, 96, 589, 259, 879, 197, 375, 735, 660, 675, 361, 575, 40, 177, 359, 138, 857, 3, 538, 129, 856, 236, 109, 693, 484, 796, 374, 768, 447, 300, 103, 239, 467, 45, 33, 207, 561, 416, 370, 673, 760, 8, 436, 213, 65, 863, 155, 772, 100, 430, 694, 590, 171, 843, 158, 110, 55, 506, 823, 737, 522, 587, 478, 550, 292, 74, 115, 445, 208, 545, 516, 26, 265, 30, 9, 799, 727, 50, 107, 719, 121, 462, 817, 345, 532, 473, 542, 233, 325, 582, 372, 672, 845, 455, 720, 291, 71, 657, 5, 23, 597, 324, 285, 801, 13, 137, 771, 57, 459, 238, 733, 380, 661, 794, 855, 406, 371, 42, 244, 89, 806, 133, 595, 243, 653, 113, 148]\n"
          ],
          "name": "stdout"
        }
      ]
    },
    {
      "cell_type": "code",
      "metadata": {
        "id": "r1zOfy68yuBQ"
      },
      "source": [
        "with open(f'/content/drive/My Drive/results/testforgunSIFT.csv','w') as f:\n",
        "  W = csv.writer(f)\n",
        "  W.writerow(randomlist_gun)\n",
        "\n",
        "with open(f'/content/drive/My Drive/results/testforknifeSIFT.csv','w') as f:\n",
        "  W = csv.writer(f)\n",
        "  W.writerow(randomlist_knife)"
      ],
      "execution_count": null,
      "outputs": []
    },
    {
      "cell_type": "markdown",
      "metadata": {
        "id": "I9hBcoDieguK"
      },
      "source": [
        "##### Making Training Data with remaining images with unique features"
      ]
    },
    {
      "cell_type": "code",
      "metadata": {
        "id": "kxeWql7D0mEo",
        "colab": {
          "base_uri": "https://localhost:8080/",
          "height": 247
        },
        "outputId": "aa7ecaad-b576-46cf-83f2-f19c756b798f"
      },
      "source": [
        "superset_traing = pd.read_csv(f'/content/drive/My Drive/results/features_gun_2_SIFT/1.csv',header = None).values\n",
        "superset_traing = superset_traing.astype(np.uint8)\n",
        "bf = cv2.BFMatcher(cv2.NORM_HAMMING, crossCheck = True)\n",
        "for i in range(1,800):\n",
        "  if i not in randomlist_gun:\n",
        "    ft = pd.read_csv(f'/content/drive/My Drive/results/features_gun_2_SIFT/{i}.csv',header = None).values\n",
        "    ft = ft.astype(np.uint8)\n",
        "    matches = bf.match(ft,superset_traing)\n",
        "    x=[0 for x in range(len(matches))]\n",
        "    for i in range(len(matches)) :\n",
        "      x[i]=matches[i].queryIdx\n",
        "    s=np.append(ft,superset_traing,0)\n",
        "    superset_traing=np.delete(s,[x],0)"
      ],
      "execution_count": null,
      "outputs": [
        {
          "output_type": "error",
          "ename": "KeyboardInterrupt",
          "evalue": "ignored",
          "traceback": [
            "\u001b[0;31m---------------------------------------------------------------------------\u001b[0m",
            "\u001b[0;31mKeyboardInterrupt\u001b[0m                         Traceback (most recent call last)",
            "\u001b[0;32m<ipython-input-7-94721a09ec4b>\u001b[0m in \u001b[0;36m<module>\u001b[0;34m()\u001b[0m\n\u001b[1;32m      6\u001b[0m     \u001b[0mft\u001b[0m \u001b[0;34m=\u001b[0m \u001b[0mpd\u001b[0m\u001b[0;34m.\u001b[0m\u001b[0mread_csv\u001b[0m\u001b[0;34m(\u001b[0m\u001b[0;34mf'/content/drive/My Drive/results/features_gun_2_SIFT/{i}.csv'\u001b[0m\u001b[0;34m,\u001b[0m\u001b[0mheader\u001b[0m \u001b[0;34m=\u001b[0m \u001b[0;32mNone\u001b[0m\u001b[0;34m)\u001b[0m\u001b[0;34m.\u001b[0m\u001b[0mvalues\u001b[0m\u001b[0;34m\u001b[0m\u001b[0;34m\u001b[0m\u001b[0m\n\u001b[1;32m      7\u001b[0m     \u001b[0mft\u001b[0m \u001b[0;34m=\u001b[0m \u001b[0mft\u001b[0m\u001b[0;34m.\u001b[0m\u001b[0mastype\u001b[0m\u001b[0;34m(\u001b[0m\u001b[0mnp\u001b[0m\u001b[0;34m.\u001b[0m\u001b[0muint8\u001b[0m\u001b[0;34m)\u001b[0m\u001b[0;34m\u001b[0m\u001b[0;34m\u001b[0m\u001b[0m\n\u001b[0;32m----> 8\u001b[0;31m     \u001b[0mmatches\u001b[0m \u001b[0;34m=\u001b[0m \u001b[0mbf\u001b[0m\u001b[0;34m.\u001b[0m\u001b[0mmatch\u001b[0m\u001b[0;34m(\u001b[0m\u001b[0mft\u001b[0m\u001b[0;34m,\u001b[0m\u001b[0msuperset_traing\u001b[0m\u001b[0;34m)\u001b[0m\u001b[0;34m\u001b[0m\u001b[0;34m\u001b[0m\u001b[0m\n\u001b[0m\u001b[1;32m      9\u001b[0m     \u001b[0mx\u001b[0m\u001b[0;34m=\u001b[0m\u001b[0;34m[\u001b[0m\u001b[0;36m0\u001b[0m \u001b[0;32mfor\u001b[0m \u001b[0mx\u001b[0m \u001b[0;32min\u001b[0m \u001b[0mrange\u001b[0m\u001b[0;34m(\u001b[0m\u001b[0mlen\u001b[0m\u001b[0;34m(\u001b[0m\u001b[0mmatches\u001b[0m\u001b[0;34m)\u001b[0m\u001b[0;34m)\u001b[0m\u001b[0;34m]\u001b[0m\u001b[0;34m\u001b[0m\u001b[0;34m\u001b[0m\u001b[0m\n\u001b[1;32m     10\u001b[0m     \u001b[0;32mfor\u001b[0m \u001b[0mi\u001b[0m \u001b[0;32min\u001b[0m \u001b[0mrange\u001b[0m\u001b[0;34m(\u001b[0m\u001b[0mlen\u001b[0m\u001b[0;34m(\u001b[0m\u001b[0mmatches\u001b[0m\u001b[0;34m)\u001b[0m\u001b[0;34m)\u001b[0m \u001b[0;34m:\u001b[0m\u001b[0;34m\u001b[0m\u001b[0;34m\u001b[0m\u001b[0m\n",
            "\u001b[0;31mKeyboardInterrupt\u001b[0m: "
          ]
        }
      ]
    },
    {
      "cell_type": "code",
      "metadata": {
        "id": "JDITopdTjgxv"
      },
      "source": [
        "import sys\n",
        "def counter(i):\n",
        "    '''\n",
        "    Counting in Loop and printing count dynamically\n",
        "    E.g. :\n",
        "        >>> 1\n",
        "        >>> 2\n",
        "    '''\n",
        "    sys.stdout.write(f'\\r{i}')\n",
        "    sys.stdout.flush()\n"
      ],
      "execution_count": null,
      "outputs": []
    },
    {
      "cell_type": "code",
      "metadata": {
        "id": "YsANm-Kb5rFp"
      },
      "source": [
        "with open('/content/drive/My Drive/results/supersetforgun_SIFT ','w') as s:\n",
        "    W = csv.writer(s)\n",
        "    for row in superset_traing:\n",
        "        W.writerow(row)"
      ],
      "execution_count": null,
      "outputs": []
    },
    {
      "cell_type": "code",
      "metadata": {
        "id": "WwU2mRm46QCu",
        "colab": {
          "base_uri": "https://localhost:8080/"
        },
        "outputId": "aefd40f7-0ed1-44e6-d957-7cc7a9bb8b9b"
      },
      "source": [
        "count_gun = np.array\n",
        "for i in range(1,800):\n",
        "  if i not in randomlist_gun:\n",
        "    ft = pd.read_csv(f'/content/drive/My Drive/results/features_gun_2_SIFT/{i}.csv',header = None).values\n",
        "    count_gun = np.append(count_gun,len(ft))\n",
        "    counter(i)\n",
        "  "
      ],
      "execution_count": null,
      "outputs": [
        {
          "output_type": "stream",
          "text": [
            "799"
          ],
          "name": "stdout"
        }
      ]
    },
    {
      "cell_type": "code",
      "metadata": {
        "colab": {
          "base_uri": "https://localhost:8080/",
          "height": 287
        },
        "id": "qsYtBaLX8p1F",
        "outputId": "1a9b508b-ed1a-47ec-f323-508821040be7"
      },
      "source": [
        "count_gun[0] = 0\n",
        "count_gun.sort()\n",
        "plt.plot(count_gun)"
      ],
      "execution_count": null,
      "outputs": [
        {
          "output_type": "execute_result",
          "data": {
            "text/plain": [
              "[<matplotlib.lines.Line2D at 0x7f54c2b4e048>]"
            ]
          },
          "metadata": {
            "tags": []
          },
          "execution_count": 10
        },
        {
          "output_type": "display_data",
          "data": {
            "image/png": "[encoded data removed]",
            "text/plain": [
              "<Figure size 432x288 with 1 Axes>"
            ]
          },
          "metadata": {
            "tags": [],
            "needs_background": "light"
          }
        }
      ]
    },
    {
      "cell_type": "code",
      "metadata": {
        "id": "bVH25MsZ7thx",
        "colab": {
          "base_uri": "https://localhost:8080/",
          "height": 1000
        },
        "outputId": "0b2e2f61-2de6-4b57-df91-4d76f7f9cbfa"
      },
      "source": [
        "count_knife =[]\n",
        "for i in range(1,881):\n",
        "  if i not in randomlist_knife:\n",
        "    try:\n",
        "      ft = pd.read_csv(f'/content/drive/My Drive/results/features_knife_SIFT/{i}.csv',header = None).values\n",
        "      count_knife = np.append(count_knife,len(ft))\n",
        "    except:\n",
        "      print(i)\n",
        "    counter(i)\n",
        "count_knife.sort()\n",
        "plt.plot(count_knife)"
      ],
      "execution_count": null,
      "outputs": [
        {
          "output_type": "stream",
          "text": [
            "301302\n",
            "411412\n",
            "413414\n",
            "419420\n",
            "421422\n",
            "424425\n",
            "426427\n",
            "432433\n",
            "434435\n",
            "437438\n",
            "439440\n",
            "444446\n",
            "446448\n",
            "502503\n",
            "504505\n",
            "510511\n",
            "512513\n",
            "515518\n",
            "523524\n",
            "525526\n",
            "530531\n",
            "537539\n",
            "568569\n",
            "569570\n",
            "581583\n",
            "610611\n",
            "668669\n",
            "705706\n",
            "732734\n",
            "736738\n",
            "738739\n",
            "739740\n",
            "741743\n",
            "743744\n",
            "754756\n",
            "756757\n",
            "784785\n",
            "824825\n",
            "825826\n",
            "838840\n",
            "867868\n",
            "880"
          ],
          "name": "stdout"
        },
        {
          "output_type": "execute_result",
          "data": {
            "text/plain": [
              "[<matplotlib.lines.Line2D at 0x7f54c26a96d8>]"
            ]
          },
          "metadata": {
            "tags": []
          },
          "execution_count": 11
        },
        {
          "output_type": "display_data",
          "data": {
            "image/png": "[encoded data removed]",
            "text/plain": [
              "<Figure size 432x288 with 1 Axes>"
            ]
          },
          "metadata": {
            "tags": [],
            "needs_background": "light"
          }
        }
      ]
    },
    {
      "cell_type": "code",
      "metadata": {
        "id": "z5Dq1KO99AX4"
      },
      "source": [
        "more_knife = []\n",
        "less_knife = []\n",
        "morek = pd.read_csv(f'/content/drive/My Drive/results/features_knife_SIFT/1.csv',header = None).values\n",
        "lessk = pd.read_csv(f'/content/drive/My Drive/results/features_knife_SIFT/1.csv',header = None).values\n",
        "for i in range(1,881):\n",
        "  if i not in randomlist_knife:\n",
        "    counter(i)\n",
        "    try:\n",
        "      ft = pd.read_csv(f'/content/drive/My Drive/results/features_knife_SIFT/{i}.csv',header = None).values\n",
        "      count_knife = len(ft)\n",
        "      if count_knife >150:\n",
        "        more_knife = np.append(more_knife,i)\n",
        "        morek = np.append(morek,ft,0)\n",
        "      else:\n",
        "        less_knife = np.append(less_knife,i)\n",
        "        lessk = np.append(lessk,ft,0)\n",
        "    #print(count_knife[i])\n",
        "    except:\n",
        "      print(i)"
      ],
      "execution_count": null,
      "outputs": []
    },
    {
      "cell_type": "code",
      "metadata": {
        "id": "9uooA-Gb-xB6",
        "colab": {
          "base_uri": "https://localhost:8080/"
        },
        "outputId": "c377f221-fbc9-422a-e2c0-aa5a44ff8599"
      },
      "source": [
        "more_gun = []\n",
        "less_gun = []\n",
        "moreg = pd.read_csv(f'/content/drive/My Drive/results/features_gun_2_SIFT/1.csv',header = None).values\n",
        "lessg = pd.read_csv(f'/content/drive/My Drive/results/features_gun_2_SIFT/1.csv',header = None).values\n",
        "for i in range(1,800):\n",
        "  if i not in randomlist_gun:\n",
        "\n",
        "    try:\n",
        "      counter(i)\n",
        "      ft = pd.read_csv(f'/content/drive/My Drive/results/features_gun_2_SIFT/{i}.csv',header = None).values\n",
        "      count_gun = len(ft)\n",
        "      if count_gun >400:\n",
        "        more_gun = np.append(more_gun,i)\n",
        "        moreg = np.append(moreg,ft,0)\n",
        "      else:\n",
        "        less_gun = np.append(less_gun,i)\n",
        "        lessg = np.append(lessg,ft,0)\n",
        "    #print(count_knife[i])\n",
        "    except:\n",
        "    #   print(i)"
      ],
      "execution_count": null,
      "outputs": [
        {
          "output_type": "stream",
          "text": [
            "799"
          ],
          "name": "stdout"
        }
      ]
    },
    {
      "cell_type": "code",
      "metadata": {
        "id": "_E0ZcEN0ByGu",
        "colab": {
          "base_uri": "https://localhost:8080/"
        },
        "outputId": "718feaef-28fe-46a6-fb4c-7f71e898dca3"
      },
      "source": [
        "print(len(more_gun))\n",
        "print(len(less_gun))\n",
        "print(len(more_knife))\n",
        "print(len(less_knife))\n",
        "print(moreg.shape)\n",
        "print(lessg.shape)\n",
        "print(morek.shape)\n",
        "print(lessk.shape)"
      ],
      "execution_count": null,
      "outputs": [
        {
          "output_type": "stream",
          "text": [
            "237\n",
            "403\n",
            "131\n",
            "548\n",
            "(145260, 128)\n",
            "(80748, 128)\n",
            "(29726, 128)\n",
            "(39068, 128)\n"
          ],
          "name": "stdout"
        }
      ]
    },
    {
      "cell_type": "code",
      "metadata": {
        "id": "BcpQsSd9CGdM",
        "colab": {
          "base_uri": "https://localhost:8080/",
          "height": 266
        },
        "outputId": "f293ca65-50b5-4c12-b97c-851f85eb5649"
      },
      "source": [
        "superset_trainmg = pd.read_csv(f'/content/drive/My Drive/results/features_gun_2_SIFT/1.csv',header = None).values\n",
        "superset_trainmg = superset_trainmg.astype(np.uint8)\n",
        "bf = cv2.BFMatcher(cv2.NORM_HAMMING, crossCheck = True)\n",
        "for i in more_gun :\n",
        "  if i >0:\n",
        "    counter(i)\n",
        "    ft = pd.read_csv(f'/content/drive/My Drive/results/features_gun_2_SIFT/{int(i)}.csv',header = None).values\n",
        "    ft = ft.astype(np.uint8)\n",
        "    matches = bf.match(ft,superset_trainmg)\n",
        "    x=[0 for x in range(len(matches))]\n",
        "    for i in range(len(matches)) :\n",
        "      x[i]=matches[i].queryIdx\n",
        "    s=np.append(ft,superset_trainmg,0)\n",
        "    superset_trainmg=np.delete(s,[x],0)"
      ],
      "execution_count": null,
      "outputs": [
        {
          "output_type": "stream",
          "text": [
            "118.0"
          ],
          "name": "stdout"
        },
        {
          "output_type": "error",
          "ename": "KeyboardInterrupt",
          "evalue": "ignored",
          "traceback": [
            "\u001b[0;31m---------------------------------------------------------------------------\u001b[0m",
            "\u001b[0;31mKeyboardInterrupt\u001b[0m                         Traceback (most recent call last)",
            "\u001b[0;32m<ipython-input-23-20dc243fe0dd>\u001b[0m in \u001b[0;36m<module>\u001b[0;34m()\u001b[0m\n\u001b[1;32m      7\u001b[0m     \u001b[0mft\u001b[0m \u001b[0;34m=\u001b[0m \u001b[0mpd\u001b[0m\u001b[0;34m.\u001b[0m\u001b[0mread_csv\u001b[0m\u001b[0;34m(\u001b[0m\u001b[0;34mf'/content/drive/My Drive/results/features_gun_2_SIFT/{int(i)}.csv'\u001b[0m\u001b[0;34m,\u001b[0m\u001b[0mheader\u001b[0m \u001b[0;34m=\u001b[0m \u001b[0;32mNone\u001b[0m\u001b[0;34m)\u001b[0m\u001b[0;34m.\u001b[0m\u001b[0mvalues\u001b[0m\u001b[0;34m\u001b[0m\u001b[0;34m\u001b[0m\u001b[0m\n\u001b[1;32m      8\u001b[0m     \u001b[0mft\u001b[0m \u001b[0;34m=\u001b[0m \u001b[0mft\u001b[0m\u001b[0;34m.\u001b[0m\u001b[0mastype\u001b[0m\u001b[0;34m(\u001b[0m\u001b[0mnp\u001b[0m\u001b[0;34m.\u001b[0m\u001b[0muint8\u001b[0m\u001b[0;34m)\u001b[0m\u001b[0;34m\u001b[0m\u001b[0;34m\u001b[0m\u001b[0m\n\u001b[0;32m----> 9\u001b[0;31m     \u001b[0mmatches\u001b[0m \u001b[0;34m=\u001b[0m \u001b[0mbf\u001b[0m\u001b[0;34m.\u001b[0m\u001b[0mmatch\u001b[0m\u001b[0;34m(\u001b[0m\u001b[0mft\u001b[0m\u001b[0;34m,\u001b[0m\u001b[0msuperset_trainmg\u001b[0m\u001b[0;34m)\u001b[0m\u001b[0;34m\u001b[0m\u001b[0;34m\u001b[0m\u001b[0m\n\u001b[0m\u001b[1;32m     10\u001b[0m     \u001b[0mx\u001b[0m\u001b[0;34m=\u001b[0m\u001b[0;34m[\u001b[0m\u001b[0;36m0\u001b[0m \u001b[0;32mfor\u001b[0m \u001b[0mx\u001b[0m \u001b[0;32min\u001b[0m \u001b[0mrange\u001b[0m\u001b[0;34m(\u001b[0m\u001b[0mlen\u001b[0m\u001b[0;34m(\u001b[0m\u001b[0mmatches\u001b[0m\u001b[0;34m)\u001b[0m\u001b[0;34m)\u001b[0m\u001b[0;34m]\u001b[0m\u001b[0;34m\u001b[0m\u001b[0;34m\u001b[0m\u001b[0m\n\u001b[1;32m     11\u001b[0m     \u001b[0;32mfor\u001b[0m \u001b[0mi\u001b[0m \u001b[0;32min\u001b[0m \u001b[0mrange\u001b[0m\u001b[0;34m(\u001b[0m\u001b[0mlen\u001b[0m\u001b[0;34m(\u001b[0m\u001b[0mmatches\u001b[0m\u001b[0;34m)\u001b[0m\u001b[0;34m)\u001b[0m \u001b[0;34m:\u001b[0m\u001b[0;34m\u001b[0m\u001b[0;34m\u001b[0m\u001b[0m\n",
            "\u001b[0;31mKeyboardInterrupt\u001b[0m: "
          ]
        }
      ]
    },
    {
      "cell_type": "code",
      "metadata": {
        "id": "a8WUIYeLDgrg"
      },
      "source": [
        "with open('/content/drive/My Drive/results/smg_SIFT.csv ','w') as s:\n",
        "    W = csv.writer(s)\n",
        "    for row in superset_trainmg:\n",
        "        W.writerow(row)"
      ],
      "execution_count": null,
      "outputs": []
    },
    {
      "cell_type": "code",
      "metadata": {
        "id": "Om0sLU5EPC4o"
      },
      "source": [
        "s = pd.read_csv('/content/drive/MyDrive/results/smg_SIFT.csv ',header = None).values\n"
      ],
      "execution_count": null,
      "outputs": []
    },
    {
      "cell_type": "code",
      "metadata": {
        "id": "sXL6RB3sGCOv",
        "colab": {
          "base_uri": "https://localhost:8080/"
        },
        "outputId": "c8694431-b0b5-4f51-b808-2b01a5e1d7cf"
      },
      "source": [
        "superset_trainlg = pd.read_csv(f'/content/drive/My Drive/results/features_gun_2_SIFT/1.csv',header = None).values\n",
        "superset_trainlg = superset_trainlg.astype(np.uint8)\n",
        "bf = cv2.BFMatcher(cv2.NORM_HAMMING, crossCheck = True)\n",
        "for i in less_gun :\n",
        "  if i >0:\n",
        "    counter(i)\n",
        "    ft = pd.read_csv(f'/content/drive/My Drive/results/features_gun_2_SIFT/{int(i)}.csv',header = None).values\n",
        "    ft = ft.astype(np.uint8)\n",
        "    # print(len(ft))\n",
        "    matches = bf.match(ft,superset_trainlg)\n",
        "    x=[0 for x in range(len(matches))]\n",
        "    for i in range(len(matches)) :\n",
        "      x[i]=matches[i].queryIdx\n",
        "    \n",
        "    s=np.append(ft,superset_trainlg,0)\n",
        "    superset_trainlg=np.delete(s,[x],0)\n",
        "    # print(len(superset_trainlg))\n",
        "print(superset_trainlg.shape)\n",
        "with open('/content/drive/My Drive/results/slg_SIFT.csv ','w') as s:\n",
        "    W = csv.writer(s)\n",
        "    for row in superset_trainlg:\n",
        "        W.writerow(row)\n"
      ],
      "execution_count": null,
      "outputs": [
        {
          "output_type": "stream",
          "text": [
            "799.0(47607, 128)\n"
          ],
          "name": "stdout"
        }
      ]
    },
    {
      "cell_type": "code",
      "metadata": {
        "id": "JrvpLZ57Jgqu",
        "colab": {
          "base_uri": "https://localhost:8080/"
        },
        "outputId": "0abb163a-d498-4a50-853f-256eb9264a9a"
      },
      "source": [
        "superset_trainlk = pd.read_csv(f'/content/drive/My Drive/results/features_knife_SIFT/1.csv',header = None).values\n",
        "superset_trainlk = superset_trainlk.astype(np.uint8)\n",
        "bf = cv2.BFMatcher(cv2.NORM_HAMMING, crossCheck = True)\n",
        "for i in less_knife :\n",
        "  if i >0:\n",
        "    ft = pd.read_csv(f'/content/drive/My Drive/results/features_knife_SIFT/{int(i)}.csv',header = None).values\n",
        "    ft = ft.astype(np.uint8)\n",
        "    # print(len(ft))\n",
        "    matches = bf.match(ft,superset_trainlk)\n",
        "    x=[0 for x in range(len(matches))]\n",
        "    for i in range(len(matches)) :\n",
        "      x[i]=matches[i].queryIdx\n",
        "    \n",
        "    s=np.append(ft,superset_trainlk,0)\n",
        "    superset_trainlk=np.delete(s,[x],0)\n",
        "    # print(len(superset_trainlk))\n",
        "    counter(i)\n",
        "\n",
        "print(superset_trainlk.shape)\n",
        "\n",
        "with open('/content/drive/My Drive/results/slk_SIFT.csv ','w') as s:\n",
        "    W = csv.writer(s)\n",
        "    for row in superset_trainlk:\n",
        "        W.writerow(row)"
      ],
      "execution_count": null,
      "outputs": [
        {
          "output_type": "stream",
          "text": [
            "32(10028, 128)\n"
          ],
          "name": "stdout"
        }
      ]
    },
    {
      "cell_type": "code",
      "metadata": {
        "colab": {
          "base_uri": "https://localhost:8080/"
        },
        "id": "0Pa4CFh5J6zP",
        "outputId": "0602bb40-1838-4e14-d1ac-1beabbd2246a"
      },
      "source": [
        "superset_trainmk = pd.read_csv(f'/content/drive/My Drive/results/features_knife_SIFT/1.csv',header = None).values\n",
        "superset_trainmk = superset_trainmk.astype(np.uint8)\n",
        "bf = cv2.BFMatcher(cv2.NORM_HAMMING, crossCheck = True)\n",
        "for i in more_knife :\n",
        "  if i >0:\n",
        "    counter(i)\n",
        "    ft = pd.read_csv(f'/content/drive/My Drive/results/features_knife_SIFT/{int(i)}.csv',header = None).values\n",
        "    ft = ft.astype(np.uint8)\n",
        "    matches = bf.match(ft,superset_trainmk)\n",
        "    x=[0 for x in range(len(matches))]\n",
        "    for i in range(len(matches)) :\n",
        "      x[i]=matches[i].queryIdx\n",
        "    s=np.append(ft,superset_trainmk,0)\n",
        "    superset_trainmk=np.delete(s,[x],0)\n",
        "print(superset_trainmk.shape)\n",
        "with open('/content/drive/My Drive/results/smk_SIFT.csv ','w') as s:\n",
        "    W = csv.writer(s)\n",
        "    for row in superset_trainmk:\n",
        "        W.writerow(row)"
      ],
      "execution_count": null,
      "outputs": [
        {
          "output_type": "stream",
          "text": [
            "753.0(13236, 128)\n"
          ],
          "name": "stdout"
        }
      ]
    },
    {
      "cell_type": "code",
      "metadata": {
        "id": "aa8KFwurp3t2"
      },
      "source": [
        ""
      ],
      "execution_count": null,
      "outputs": []
    }
  ]
}